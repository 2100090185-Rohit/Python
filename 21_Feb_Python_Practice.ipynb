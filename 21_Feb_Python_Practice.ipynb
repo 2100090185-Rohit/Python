{
  "nbformat": 4,
  "nbformat_minor": 0,
  "metadata": {
    "colab": {
      "provenance": []
    },
    "kernelspec": {
      "name": "python3",
      "display_name": "Python 3"
    },
    "language_info": {
      "name": "python"
    }
  },
  "cells": [
    {
      "cell_type": "markdown",
      "source": [
        "Polynomial ---> Multiple classes with the same method name"
      ],
      "metadata": {
        "id": "z6jkRKH7YEks"
      }
    },
    {
      "cell_type": "code",
      "execution_count": null,
      "metadata": {
        "colab": {
          "base_uri": "https://localhost:8080/"
        },
        "id": "wwwrTpiAXwpC",
        "outputId": "aba65966-7e80-44df-9436-1a4addddb625"
      },
      "outputs": [
        {
          "output_type": "stream",
          "name": "stdout",
          "text": [
            "Drive\n",
            "Sail\n"
          ]
        }
      ],
      "source": [
        "class Car:\n",
        "  def __init__(self, brand, model):\n",
        "    self.brand = brand\n",
        "    self.model = model\n",
        "  def move(self):\n",
        "    print(\"Drive\")\n",
        "\n",
        "class Boat:\n",
        "  def __init__(self, brand, model):\n",
        "    self.brand = brand\n",
        "    self.model = model\n",
        "\n",
        "  def move(self):\n",
        "    print(\"Sail\")\n",
        "\n",
        "car1 = Car(\"Ford\", \"Mustang\")\n",
        "boat1 = Boat(\"Ilaza\", \"Touring 20\") # Create bot class\n",
        "\n",
        "for x in (car1,boat1):\n",
        "  x.move()"
      ]
    },
    {
      "cell_type": "code",
      "source": [
        "# here car, boat, plane are the child class of vehicle\n",
        "\n",
        "class Vehicle:\n",
        "  def __init__(self, brand, model):\n",
        "    self.brand = brand\n",
        "    self.model = model\n",
        "\n",
        "  def move(self):\n",
        "    print(\"Move\")\n",
        "\n",
        "class Car(Vehicle):\n",
        "  pass\n",
        "\n",
        "class Boat(Vehicle):\n",
        "  def move(self):\n",
        "    print(\"Sail\")\n",
        "\n",
        "\n",
        "class Plane(Vehicle):\n",
        "  def move(self):\n",
        "    print(\"Fly\")\n",
        "\n",
        "car1 = Car(\"Ford\", \"Mustang\")\n",
        "boat1 = Boat(\"Ibiza\", \"Touring 20\")\n",
        "plane1 = Plane(\"Boeing\", \"747\")\n",
        "\n",
        "\n",
        "for x in (car1, boat1, plane1):\n",
        "  print(x.brand)\n",
        "  print(x.model)\n",
        "  x.move()\n",
        "  print()"
      ],
      "metadata": {
        "colab": {
          "base_uri": "https://localhost:8080/"
        },
        "id": "tYqkJ8tvZKbz",
        "outputId": "073d3f97-4b8e-434d-8da4-8d3635df990b"
      },
      "execution_count": null,
      "outputs": [
        {
          "output_type": "stream",
          "name": "stdout",
          "text": [
            "Ford\n",
            "Mustang\n",
            "Move\n",
            "\n",
            "Ibiza\n",
            "Touring 20\n",
            "Sail\n",
            "\n",
            "Boeing\n",
            "747\n",
            "Fly\n",
            "\n"
          ]
        }
      ]
    },
    {
      "cell_type": "code",
      "source": [
        "# 3 --> Local Scope\n",
        "def myFunc():\n",
        "  x = 300\n",
        "  print(x)\n",
        "\n",
        "myFunc()"
      ],
      "metadata": {
        "colab": {
          "base_uri": "https://localhost:8080/"
        },
        "id": "afjGxSNebNL6",
        "outputId": "94e081c5-2382-4af5-c759-b4d3052aa41a"
      },
      "execution_count": null,
      "outputs": [
        {
          "output_type": "stream",
          "name": "stdout",
          "text": [
            "300\n"
          ]
        }
      ]
    },
    {
      "cell_type": "code",
      "source": [
        "# 4 --> Global Scope\n",
        "\n",
        "x = 300\n",
        "def myFunc():\n",
        "  print(x)\n",
        "myFunc()\n",
        "print(x)"
      ],
      "metadata": {
        "colab": {
          "base_uri": "https://localhost:8080/"
        },
        "id": "01O4KZstdBao",
        "outputId": "6988ece0-8bfe-4be6-c251-3001c9569021"
      },
      "execution_count": null,
      "outputs": [
        {
          "output_type": "stream",
          "name": "stdout",
          "text": [
            "300\n",
            "300\n"
          ]
        }
      ]
    },
    {
      "cell_type": "code",
      "source": [
        "# 5 --> Global Keyword\n",
        "def muFunc():\n",
        "  global x\n",
        "  x = 300\n",
        "\n",
        "myFunc()\n",
        "print(x)"
      ],
      "metadata": {
        "colab": {
          "base_uri": "https://localhost:8080/"
        },
        "id": "4G0Rr9JJd8nt",
        "outputId": "6ca1f4e6-de4d-41b0-b882-3aedddb5737f"
      },
      "execution_count": null,
      "outputs": [
        {
          "output_type": "stream",
          "name": "stdout",
          "text": [
            "300\n",
            "300\n"
          ]
        }
      ]
    },
    {
      "cell_type": "code",
      "source": [
        "# Python Module\n",
        "\n",
        "def greeting(name):\n",
        "  print(\"Hello, \"+name)\n",
        "\n",
        "greeting(\"Rohit\")"
      ],
      "metadata": {
        "colab": {
          "base_uri": "https://localhost:8080/"
        },
        "id": "pa7gfF7HeLPs",
        "outputId": "ff93d98e-40e7-4116-b5ec-521a0438ec65"
      },
      "execution_count": null,
      "outputs": [
        {
          "output_type": "stream",
          "name": "stdout",
          "text": [
            "Hello, Rohit\n"
          ]
        }
      ]
    },
    {
      "cell_type": "code",
      "source": [
        "# Python Datetime\n",
        "\n",
        "import datetime\n",
        "\n",
        "x = datetime.datetime.now()\n",
        "print(x)"
      ],
      "metadata": {
        "colab": {
          "base_uri": "https://localhost:8080/"
        },
        "id": "U_YQOFfieijh",
        "outputId": "b48bcd52-79b0-4642-f966-d239a617bbc7"
      },
      "execution_count": null,
      "outputs": [
        {
          "output_type": "stream",
          "name": "stdout",
          "text": [
            "2024-02-21 02:26:24.973477\n"
          ]
        }
      ]
    },
    {
      "cell_type": "code",
      "source": [
        "# Return the year and name of weekday\n",
        "\n",
        "import datetime\n",
        "\n",
        "x = datetime.datetime.now()\n",
        "\n",
        "print(x.year)\n",
        "print(x.strftime(\"%A\"))"
      ],
      "metadata": {
        "colab": {
          "base_uri": "https://localhost:8080/"
        },
        "id": "0Ymo7seEfFVn",
        "outputId": "3ac11fe7-269c-454c-89d7-22b4dfd0f2b8"
      },
      "execution_count": null,
      "outputs": [
        {
          "output_type": "stream",
          "name": "stdout",
          "text": [
            "2024\n",
            "Wednesday\n"
          ]
        }
      ]
    },
    {
      "cell_type": "code",
      "source": [
        "# Creating Date Object\n",
        "import datetime\n",
        "\n",
        "x = datetime.datetime(2020,5,17)\n",
        "print(x)"
      ],
      "metadata": {
        "colab": {
          "base_uri": "https://localhost:8080/"
        },
        "id": "mJqT8nnhfgTL",
        "outputId": "06b458aa-6aae-48c0-a106-24b60e4d77ab"
      },
      "execution_count": null,
      "outputs": [
        {
          "output_type": "stream",
          "name": "stdout",
          "text": [
            "2020-05-17 00:00:00\n"
          ]
        }
      ]
    },
    {
      "cell_type": "code",
      "source": [
        "# Python Math\n",
        "\n",
        "x = min(5,10,25)\n",
        "y = max(5,10,25)\n",
        "\n",
        "print(x)\n",
        "print(y)"
      ],
      "metadata": {
        "colab": {
          "base_uri": "https://localhost:8080/"
        },
        "id": "MWMa8l7Ef64Z",
        "outputId": "2c937a41-4a33-4249-8077-d0e5e25b5dfb"
      },
      "execution_count": null,
      "outputs": [
        {
          "output_type": "stream",
          "name": "stdout",
          "text": [
            "5\n",
            "25\n"
          ]
        }
      ]
    },
    {
      "cell_type": "code",
      "source": [
        "# abs() --> return absolute (positive) value\n",
        "\n",
        "x = abs(-7.25)\n",
        "print(x)"
      ],
      "metadata": {
        "colab": {
          "base_uri": "https://localhost:8080/"
        },
        "id": "hJq_QiSsgEX5",
        "outputId": "0f74450d-dd34-43c0-b68e-c21b6d6d9d32"
      },
      "execution_count": null,
      "outputs": [
        {
          "output_type": "stream",
          "name": "stdout",
          "text": [
            "7.25\n"
          ]
        }
      ]
    },
    {
      "cell_type": "code",
      "source": [
        "x = pow(4,3)\n",
        "print(x)"
      ],
      "metadata": {
        "colab": {
          "base_uri": "https://localhost:8080/"
        },
        "id": "TpXe6dRXgTBB",
        "outputId": "e8ca5bcf-fb33-4af4-d33f-37b186acbb08"
      },
      "execution_count": null,
      "outputs": [
        {
          "output_type": "stream",
          "name": "stdout",
          "text": [
            "64\n"
          ]
        }
      ]
    },
    {
      "cell_type": "code",
      "source": [
        "# math module -- extends the list of mathematics function\n",
        "\n",
        "import math\n",
        "\n",
        "x = math.sqrt(64)\n",
        "\n",
        "print(x)"
      ],
      "metadata": {
        "colab": {
          "base_uri": "https://localhost:8080/"
        },
        "id": "e235poQpgY9D",
        "outputId": "33dfe34b-ad30-411c-a280-65f02217ec49"
      },
      "execution_count": null,
      "outputs": [
        {
          "output_type": "stream",
          "name": "stdout",
          "text": [
            "8.0\n"
          ]
        }
      ]
    },
    {
      "cell_type": "code",
      "source": [
        "# math.ceil() ---> rounds a number upwards to its nearest integer\n",
        "# math.floor()\n",
        "\n",
        "import math\n",
        "\n",
        "x = math.ceil(1.4)\n",
        "y = math.floor(1.4)\n",
        "\n",
        "print(x)\n",
        "print(y)"
      ],
      "metadata": {
        "colab": {
          "base_uri": "https://localhost:8080/"
        },
        "id": "Smek6CilgtKH",
        "outputId": "8cc84152-9c70-4e10-87b4-b1463d3381a8"
      },
      "execution_count": null,
      "outputs": [
        {
          "output_type": "stream",
          "name": "stdout",
          "text": [
            "2\n",
            "1\n"
          ]
        }
      ]
    },
    {
      "cell_type": "code",
      "source": [
        "import math\n",
        "\n",
        "x = math.pi\n",
        "print(x)"
      ],
      "metadata": {
        "colab": {
          "base_uri": "https://localhost:8080/"
        },
        "id": "Tn4fvK7phTce",
        "outputId": "b44ea833-1a4e-48fc-f9ff-c1bd0d2a7886"
      },
      "execution_count": null,
      "outputs": [
        {
          "output_type": "stream",
          "name": "stdout",
          "text": [
            "3.141592653589793\n"
          ]
        }
      ]
    },
    {
      "cell_type": "code",
      "source": [
        "# JSON ---> syntax for storing and exchanging data\n",
        "\n",
        "import json\n",
        "\n",
        "x = '{\"name\":\"John\", \"Age\":30, \"City\":\"New York\"}'\n",
        "\n",
        "y = json.loads(x)\n",
        "print(y[\"Age\"])"
      ],
      "metadata": {
        "colab": {
          "base_uri": "https://localhost:8080/"
        },
        "id": "iRJi1NsWhfv9",
        "outputId": "ddbfff92-3006-44f7-a1a9-23ff41130381"
      },
      "execution_count": null,
      "outputs": [
        {
          "output_type": "stream",
          "name": "stdout",
          "text": [
            "30\n"
          ]
        }
      ]
    },
    {
      "cell_type": "code",
      "source": [
        "# Regular Expression -- RegEx\n",
        "\n",
        "import re\n",
        "\n",
        "txt = \"The rain in Spain\"\n",
        "x = re.search(\"^The.*Spain\",txt)\n",
        "\n",
        "if x:\n",
        "  print(\"Yes! We have a match\")\n",
        "else:\n",
        "  print(\"No \")"
      ],
      "metadata": {
        "id": "xL_RVs2eifZL"
      },
      "execution_count": null,
      "outputs": []
    }
  ]
}